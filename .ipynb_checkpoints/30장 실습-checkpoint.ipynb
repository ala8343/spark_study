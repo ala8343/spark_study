{
 "cells": [
  {
   "cell_type": "code",
   "execution_count": 1,
   "metadata": {},
   "outputs": [
    {
     "data": {
      "text/html": [
       "\n",
       "        <div>\n",
       "            <p><b>SparkContext</b></p>\n",
       "\n",
       "            <p><a href=\"http://ip-172-31-17-134.ec2.internal:4040\">Spark UI</a></p>\n",
       "\n",
       "            <dl>\n",
       "              <dt>Version</dt>\n",
       "                <dd><code>v2.4.7</code></dd>\n",
       "              <dt>Master</dt>\n",
       "                <dd><code>local[*]</code></dd>\n",
       "              <dt>AppName</dt>\n",
       "                <dd><code>PySparkShell</code></dd>\n",
       "            </dl>\n",
       "        </div>\n",
       "        "
      ],
      "text/plain": [
       "<SparkContext master=local[*] appName=PySparkShell>"
      ]
     },
     "execution_count": 1,
     "metadata": {},
     "output_type": "execute_result"
    }
   ],
   "source": [
    "sc"
   ]
  },
  {
   "cell_type": "code",
   "execution_count": 2,
   "metadata": {},
   "outputs": [],
   "source": [
    "bikeStations = spark.read.option(\"header\",\"true\")\\\n",
    "  .csv(\"file:///home/ubuntu/Spark-The-Definitive-Guide/data/bike-data/201508_station_data.csv\")\n",
    "tripData = spark.read.option(\"header\",\"true\")\\\n",
    "  .csv(\"file:///home/ubuntu/Spark-The-Definitive-Guide/data/bike-data/201508_trip_data.csv\")"
   ]
  },
  {
   "cell_type": "code",
   "execution_count": 3,
   "metadata": {},
   "outputs": [],
   "source": [
    "stationVertices = bikeStations.withColumnRenamed(\"name\", \"id\").distinct()\n",
    "tripEdges = tripData\\\n",
    "  .withColumnRenamed(\"Start Station\", \"src\")\\\n",
    "  .withColumnRenamed(\"End Station\", \"dst\")"
   ]
  },
  {
   "cell_type": "code",
   "execution_count": 8,
   "metadata": {},
   "outputs": [],
   "source": [
    "from graphframes import GraphFrame\n",
    "#stationGraph = GraphFrame(stationVertices, tripEdges)\n",
    "#stationGraph.cache()"
   ]
  },
  {
   "cell_type": "code",
   "execution_count": 9,
   "metadata": {},
   "outputs": [],
   "source": [
    "#print(\"Total Number of Stations: \" + str(stationGraph.vertices.count()))\n",
    "#print(\"Total Number of Trips in Graph: \" + str(stationGraph.edges.count())) \n",
    "#print(\"Total Number of Trips in Original Data: \" + str(tripData.count())) "
   ]
  },
  {
   "cell_type": "code",
   "execution_count": 10,
   "metadata": {},
   "outputs": [],
   "source": [
    "#from pyspark.sql.functions import desc\n",
    "#stationGraph.edges.groupBy(\"src\", \"dst\").count().orderBy(desc(\"count\")).show(10)"
   ]
  },
  {
   "cell_type": "code",
   "execution_count": 11,
   "metadata": {},
   "outputs": [],
   "source": [
    "#stationGraph.edges\\\n",
    "#  .where(\"src = 'Townsend at 7th' OR dst = 'Townsend at 7th'\")\\\n",
    "#  .groupBy(\"src\", \"dst\").count()\\\n",
    "#  .orderBy(desc(\"count\"))\\\n",
    "#  .show(10)"
   ]
  },
  {
   "cell_type": "code",
   "execution_count": 12,
   "metadata": {},
   "outputs": [],
   "source": [
    "#townAnd7thEdges = stationGraph.edges\\\n",
    "#  .where(\"src = 'Townsend at 7th' OR dst = 'Townsend at 7th'\")\n",
    "#subgraph = GraphFrame(stationGraph.vertices, townAnd7thEdges)"
   ]
  },
  {
   "cell_type": "code",
   "execution_count": 14,
   "metadata": {},
   "outputs": [],
   "source": [
    "#motifs = stationGraph.find(\"(a)-[ab]->(b); (b)-[bc]->(c); (c)-[ca]->(a)\")"
   ]
  },
  {
   "cell_type": "code",
   "execution_count": null,
   "metadata": {},
   "outputs": [],
   "source": [
    "from pyspark.sql.functions import expr\n",
    "motifs.selectExpr(\"*\",\n",
    "    \"to_timestamp(ab.`Start Date`, 'MM/dd/yyyy HH:mm') as abStart\",\n",
    "    \"to_timestamp(bc.`Start Date`, 'MM/dd/yyyy HH:mm') as bcStart\",\n",
    "    \"to_timestamp(ca.`Start Date`, 'MM/dd/yyyy HH:mm') as caStart\")\\\n",
    "  .where(\"ca.`Bike #` = bc.`Bike #`\").where(\"ab.`Bike #` = bc.`Bike #`\")\\\n",
    "  .where(\"a.id != b.id\").where(\"b.id != c.id\")\\\n",
    "  .where(\"abStart < bcStart\").where(\"bcStart < caStart\")\\\n",
    "  .orderBy(expr(\"cast(caStart as long) - cast(abStart as long)\"))\\\n",
    "  .selectExpr(\"a.id\", \"b.id\", \"c.id\", \"ab.`Start Date`\", \"ca.`End Date`\")\\\n",
    "  .limit(1).show(1, False)"
   ]
  },
  {
   "cell_type": "code",
   "execution_count": null,
   "metadata": {},
   "outputs": [],
   "source": [
    "from pyspark.sql.functions import desc\n",
    "ranks = stationGraph.pageRank(resetProbability=0.15, maxIter=10)\n",
    "ranks.vertices.orderBy(desc(\"pagerank\")).select(\"id\", \"pagerank\").show(10)"
   ]
  },
  {
   "cell_type": "code",
   "execution_count": null,
   "metadata": {},
   "outputs": [],
   "source": [
    "inDeg = stationGraph.inDegrees\n",
    "inDeg.orderBy(desc(\"inDegree\")).show(5, False)"
   ]
  },
  {
   "cell_type": "code",
   "execution_count": null,
   "metadata": {},
   "outputs": [],
   "source": [
    "outDeg = stationGraph.outDegrees\n",
    "outDeg.orderBy(desc(\"outDegree\")).show(5, False)"
   ]
  },
  {
   "cell_type": "code",
   "execution_count": null,
   "metadata": {},
   "outputs": [],
   "source": [
    "degreeRatio = inDeg.join(outDeg, \"id\")\\\n",
    "  .selectExpr(\"id\", \"double(inDegree)/double(outDegree) as degreeRatio\")\n",
    "degreeRatio.orderBy(desc(\"degreeRatio\")).show(10, False)\n",
    "degreeRatio.orderBy(\"degreeRatio\").show(10, False)"
   ]
  },
  {
   "cell_type": "code",
   "execution_count": null,
   "metadata": {},
   "outputs": [],
   "source": [
    "stationGraph.bfs(fromExpr=\"id = 'Townsend at 7th'\",\n",
    "  toExpr=\"id = 'Spear at Folsom'\", maxPathLength=2).show(10)"
   ]
  },
  {
   "cell_type": "code",
   "execution_count": null,
   "metadata": {},
   "outputs": [],
   "source": [
    "spark.sparkContext.setCheckpointDir(\"/tmp/checkpoints\")"
   ]
  },
  {
   "cell_type": "code",
   "execution_count": null,
   "metadata": {},
   "outputs": [],
   "source": [
    "minGraph = GraphFrame(stationVertices, tripEdges.sample(False, 0.1))\n",
    "cc = minGraph.connectedComponents()"
   ]
  },
  {
   "cell_type": "code",
   "execution_count": null,
   "metadata": {},
   "outputs": [],
   "source": [
    "cc.where(\"component != 0\").show()"
   ]
  },
  {
   "cell_type": "code",
   "execution_count": null,
   "metadata": {},
   "outputs": [],
   "source": [
    "scc = minGraph.stronglyConnectedComponents(maxIter=3)"
   ]
  }
 ],
 "metadata": {
  "kernelspec": {
   "display_name": "Python 3",
   "language": "python",
   "name": "python3"
  },
  "language_info": {
   "codemirror_mode": {
    "name": "ipython",
    "version": 3
   },
   "file_extension": ".py",
   "mimetype": "text/x-python",
   "name": "python",
   "nbconvert_exporter": "python",
   "pygments_lexer": "ipython3",
   "version": "3.7.4"
  }
 },
 "nbformat": 4,
 "nbformat_minor": 2
}
